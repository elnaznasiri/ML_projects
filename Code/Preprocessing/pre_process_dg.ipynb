{
 "cells": [
  {
   "cell_type": "code",
   "execution_count": 1,
   "metadata": {},
   "outputs": [],
   "source": [
    "#کتابخانه pandas: مهمترین کتابخانه برای آنالیز داده های جدولی و json و xml در پایتون استفاده می شود\n",
    "import pandas as pd"
   ]
  },
  {
   "cell_type": "code",
   "execution_count": 3,
   "metadata": {},
   "outputs": [],
   "source": [
    "#Read CSV file\n",
    "dataSets=pd.read_csv('./ML_projects3493882.csv')"
   ]
  },
  {
   "cell_type": "code",
   "execution_count": 5,
   "metadata": {},
   "outputs": [
    {
     "data": {
      "text/plain": [
       "(240, 12)"
      ]
     },
     "execution_count": 5,
     "metadata": {},
     "output_type": "execute_result"
    }
   ],
   "source": [
    "dataSets.shape"
   ]
  },
  {
   "cell_type": "code",
   "execution_count": 6,
   "metadata": {},
   "outputs": [
    {
     "data": {
      "text/plain": [
       "Index(['productID', 'id', 'title', 'body', 'created_at', 'rate', 'likes',\n",
       "       'dislikes', 'recommendation_status', 'is_buyer', 'user_name',\n",
       "       'is_anonymous'],\n",
       "      dtype='object')"
      ]
     },
     "execution_count": 6,
     "metadata": {},
     "output_type": "execute_result"
    }
   ],
   "source": [
    "dataSets.columns"
   ]
  },
  {
   "cell_type": "code",
   "execution_count": 7,
   "metadata": {},
   "outputs": [
    {
     "data": {
      "text/html": [
       "<div>\n",
       "<style scoped>\n",
       "    .dataframe tbody tr th:only-of-type {\n",
       "        vertical-align: middle;\n",
       "    }\n",
       "\n",
       "    .dataframe tbody tr th {\n",
       "        vertical-align: top;\n",
       "    }\n",
       "\n",
       "    .dataframe thead th {\n",
       "        text-align: right;\n",
       "    }\n",
       "</style>\n",
       "<table border=\"1\" class=\"dataframe\">\n",
       "  <thead>\n",
       "    <tr style=\"text-align: right;\">\n",
       "      <th></th>\n",
       "      <th>productID</th>\n",
       "      <th>id</th>\n",
       "      <th>title</th>\n",
       "      <th>body</th>\n",
       "      <th>created_at</th>\n",
       "      <th>rate</th>\n",
       "      <th>likes</th>\n",
       "      <th>dislikes</th>\n",
       "      <th>recommendation_status</th>\n",
       "      <th>is_buyer</th>\n",
       "      <th>user_name</th>\n",
       "      <th>is_anonymous</th>\n",
       "    </tr>\n",
       "  </thead>\n",
       "  <tbody>\n",
       "    <tr>\n",
       "      <th>0</th>\n",
       "      <td>3493882</td>\n",
       "      <td>45009584</td>\n",
       "      <td>خیلی عالیه پیشنهاد میکنم بخرید هم پرسرعته وهم ...</td>\n",
       "      <td>خیلی عالیه پیشنهاد میکنم بخرید هم پرسرعته وهم ...</td>\n",
       "      <td>8 بهمن 1401</td>\n",
       "      <td>5.0</td>\n",
       "      <td>0</td>\n",
       "      <td>0</td>\n",
       "      <td>NaN</td>\n",
       "      <td>True</td>\n",
       "      <td>هادی هادیان</td>\n",
       "      <td>False</td>\n",
       "    </tr>\n",
       "    <tr>\n",
       "      <th>1</th>\n",
       "      <td>3493882</td>\n",
       "      <td>44397557</td>\n",
       "      <td>اندروید باکس</td>\n",
       "      <td>خوب بود مشکلی تو این دو ماه که استفاده کردم ند...</td>\n",
       "      <td>26 دی 1401</td>\n",
       "      <td>4.0</td>\n",
       "      <td>0</td>\n",
       "      <td>0</td>\n",
       "      <td>recommended</td>\n",
       "      <td>True</td>\n",
       "      <td>کاربر دیجی‌کالا</td>\n",
       "      <td>True</td>\n",
       "    </tr>\n",
       "    <tr>\n",
       "      <th>2</th>\n",
       "      <td>3493882</td>\n",
       "      <td>44271805</td>\n",
       "      <td>ب نسبت قیمت عالیه</td>\n",
       "      <td>به نسبت قیمتی ک پرداخت میکنید خیلی خوبه ب شرطی...</td>\n",
       "      <td>23 دی 1401</td>\n",
       "      <td>4.0</td>\n",
       "      <td>0</td>\n",
       "      <td>0</td>\n",
       "      <td>NaN</td>\n",
       "      <td>True</td>\n",
       "      <td>امیر خسروشاهی ملکی</td>\n",
       "      <td>False</td>\n",
       "    </tr>\n",
       "  </tbody>\n",
       "</table>\n",
       "</div>"
      ],
      "text/plain": [
       "   productID        id                                              title  \\\n",
       "0    3493882  45009584  خیلی عالیه پیشنهاد میکنم بخرید هم پرسرعته وهم ...   \n",
       "1    3493882  44397557                                       اندروید باکس   \n",
       "2    3493882  44271805                                  ب نسبت قیمت عالیه   \n",
       "\n",
       "                                                body   created_at  rate  \\\n",
       "0  خیلی عالیه پیشنهاد میکنم بخرید هم پرسرعته وهم ...  8 بهمن 1401   5.0   \n",
       "1  خوب بود مشکلی تو این دو ماه که استفاده کردم ند...   26 دی 1401   4.0   \n",
       "2  به نسبت قیمتی ک پرداخت میکنید خیلی خوبه ب شرطی...   23 دی 1401   4.0   \n",
       "\n",
       "   likes  dislikes recommendation_status  is_buyer           user_name  \\\n",
       "0      0         0                   NaN      True         هادی هادیان   \n",
       "1      0         0           recommended      True     کاربر دیجی‌کالا   \n",
       "2      0         0                   NaN      True  امیر خسروشاهی ملکی   \n",
       "\n",
       "   is_anonymous  \n",
       "0         False  \n",
       "1          True  \n",
       "2         False  "
      ]
     },
     "execution_count": 7,
     "metadata": {},
     "output_type": "execute_result"
    }
   ],
   "source": [
    "dataSets.head(3)"
   ]
  },
  {
   "cell_type": "code",
   "execution_count": 8,
   "metadata": {},
   "outputs": [
    {
     "data": {
      "text/html": [
       "<div>\n",
       "<style scoped>\n",
       "    .dataframe tbody tr th:only-of-type {\n",
       "        vertical-align: middle;\n",
       "    }\n",
       "\n",
       "    .dataframe tbody tr th {\n",
       "        vertical-align: top;\n",
       "    }\n",
       "\n",
       "    .dataframe thead th {\n",
       "        text-align: right;\n",
       "    }\n",
       "</style>\n",
       "<table border=\"1\" class=\"dataframe\">\n",
       "  <thead>\n",
       "    <tr style=\"text-align: right;\">\n",
       "      <th></th>\n",
       "      <th>productID</th>\n",
       "      <th>id</th>\n",
       "      <th>title</th>\n",
       "      <th>body</th>\n",
       "      <th>created_at</th>\n",
       "      <th>rate</th>\n",
       "      <th>likes</th>\n",
       "      <th>dislikes</th>\n",
       "      <th>recommendation_status</th>\n",
       "      <th>is_buyer</th>\n",
       "      <th>user_name</th>\n",
       "      <th>is_anonymous</th>\n",
       "    </tr>\n",
       "  </thead>\n",
       "  <tbody>\n",
       "    <tr>\n",
       "      <th>237</th>\n",
       "      <td>3493882</td>\n",
       "      <td>15278496</td>\n",
       "      <td>پیشنهاد میکنم بخرید</td>\n",
       "      <td>از هر نظر عالیه هم کیفیت تصویرش خوبه هم امکانا...</td>\n",
       "      <td>9 دی 1399</td>\n",
       "      <td>5.0</td>\n",
       "      <td>5</td>\n",
       "      <td>0</td>\n",
       "      <td>recommended</td>\n",
       "      <td>True</td>\n",
       "      <td>امید رحیمی</td>\n",
       "      <td>False</td>\n",
       "    </tr>\n",
       "    <tr>\n",
       "      <th>238</th>\n",
       "      <td>3493882</td>\n",
       "      <td>15177340</td>\n",
       "      <td>توصیه میکنم برای تمام کسانی که به دنبال رضایت ...</td>\n",
       "      <td>با توجه به این هزینه مناسب ، به راحتی تلویزیون...</td>\n",
       "      <td>3 دی 1399</td>\n",
       "      <td>0.0</td>\n",
       "      <td>1</td>\n",
       "      <td>0</td>\n",
       "      <td>recommended</td>\n",
       "      <td>True</td>\n",
       "      <td>مجید مصلی دانش</td>\n",
       "      <td>False</td>\n",
       "    </tr>\n",
       "    <tr>\n",
       "      <th>239</th>\n",
       "      <td>3493882</td>\n",
       "      <td>15011166</td>\n",
       "      <td>خوبه</td>\n",
       "      <td>دستگاه واقعا خوبیه بدون لگ فیلما رو پخش میکنه ...</td>\n",
       "      <td>29 آذر 1399</td>\n",
       "      <td>3.0</td>\n",
       "      <td>2</td>\n",
       "      <td>0</td>\n",
       "      <td>recommended</td>\n",
       "      <td>True</td>\n",
       "      <td>کاربر دیجی‌کالا</td>\n",
       "      <td>True</td>\n",
       "    </tr>\n",
       "  </tbody>\n",
       "</table>\n",
       "</div>"
      ],
      "text/plain": [
       "     productID        id                                              title  \\\n",
       "237    3493882  15278496                                پیشنهاد میکنم بخرید   \n",
       "238    3493882  15177340  توصیه میکنم برای تمام کسانی که به دنبال رضایت ...   \n",
       "239    3493882  15011166                                               خوبه   \n",
       "\n",
       "                                                  body   created_at  rate  \\\n",
       "237  از هر نظر عالیه هم کیفیت تصویرش خوبه هم امکانا...    9 دی 1399   5.0   \n",
       "238  با توجه به این هزینه مناسب ، به راحتی تلویزیون...    3 دی 1399   0.0   \n",
       "239  دستگاه واقعا خوبیه بدون لگ فیلما رو پخش میکنه ...  29 آذر 1399   3.0   \n",
       "\n",
       "     likes  dislikes recommendation_status  is_buyer        user_name  \\\n",
       "237      5         0           recommended      True       امید رحیمی   \n",
       "238      1         0           recommended      True   مجید مصلی دانش   \n",
       "239      2         0           recommended      True  کاربر دیجی‌کالا   \n",
       "\n",
       "     is_anonymous  \n",
       "237         False  \n",
       "238         False  \n",
       "239          True  "
      ]
     },
     "execution_count": 8,
     "metadata": {},
     "output_type": "execute_result"
    }
   ],
   "source": [
    "dataSets.tail(3)"
   ]
  },
  {
   "cell_type": "code",
   "execution_count": 9,
   "metadata": {},
   "outputs": [
    {
     "data": {
      "text/html": [
       "<div>\n",
       "<style scoped>\n",
       "    .dataframe tbody tr th:only-of-type {\n",
       "        vertical-align: middle;\n",
       "    }\n",
       "\n",
       "    .dataframe tbody tr th {\n",
       "        vertical-align: top;\n",
       "    }\n",
       "\n",
       "    .dataframe thead th {\n",
       "        text-align: right;\n",
       "    }\n",
       "</style>\n",
       "<table border=\"1\" class=\"dataframe\">\n",
       "  <thead>\n",
       "    <tr style=\"text-align: right;\">\n",
       "      <th></th>\n",
       "      <th>productID</th>\n",
       "      <th>id</th>\n",
       "      <th>title</th>\n",
       "      <th>body</th>\n",
       "      <th>created_at</th>\n",
       "      <th>rate</th>\n",
       "      <th>likes</th>\n",
       "      <th>dislikes</th>\n",
       "      <th>recommendation_status</th>\n",
       "      <th>is_buyer</th>\n",
       "      <th>user_name</th>\n",
       "      <th>is_anonymous</th>\n",
       "    </tr>\n",
       "  </thead>\n",
       "  <tbody>\n",
       "    <tr>\n",
       "      <th>4</th>\n",
       "      <td>3493882</td>\n",
       "      <td>44174285</td>\n",
       "      <td>NaN</td>\n",
       "      <td>خیلی معمولی ،سرعت پایینی داره .کست هم نمیشه تا...</td>\n",
       "      <td>21 دی 1401</td>\n",
       "      <td>3.0</td>\n",
       "      <td>0</td>\n",
       "      <td>0</td>\n",
       "      <td>no_idea</td>\n",
       "      <td>True</td>\n",
       "      <td>کاربر دیجی‌کالا</td>\n",
       "      <td>True</td>\n",
       "    </tr>\n",
       "    <tr>\n",
       "      <th>5</th>\n",
       "      <td>3493882</td>\n",
       "      <td>44087864</td>\n",
       "      <td>در حد مطلوب</td>\n",
       "      <td>پخش فیلم و سرچ کردن و دانلود کردن و همه چی دار...</td>\n",
       "      <td>19 دی 1401</td>\n",
       "      <td>4.0</td>\n",
       "      <td>0</td>\n",
       "      <td>0</td>\n",
       "      <td>recommended</td>\n",
       "      <td>True</td>\n",
       "      <td>پارسا احمدی</td>\n",
       "      <td>False</td>\n",
       "    </tr>\n",
       "    <tr>\n",
       "      <th>6</th>\n",
       "      <td>3493882</td>\n",
       "      <td>44060535</td>\n",
       "      <td>NaN</td>\n",
       "      <td>نسبت به قیمت وسخت افزار ونرم افزار، دستگاه منا...</td>\n",
       "      <td>18 دی 1401</td>\n",
       "      <td>4.0</td>\n",
       "      <td>0</td>\n",
       "      <td>0</td>\n",
       "      <td>NaN</td>\n",
       "      <td>True</td>\n",
       "      <td>کاربر دیجی‌کالا</td>\n",
       "      <td>True</td>\n",
       "    </tr>\n",
       "  </tbody>\n",
       "</table>\n",
       "</div>"
      ],
      "text/plain": [
       "   productID        id        title  \\\n",
       "4    3493882  44174285          NaN   \n",
       "5    3493882  44087864  در حد مطلوب   \n",
       "6    3493882  44060535          NaN   \n",
       "\n",
       "                                                body  created_at  rate  likes  \\\n",
       "4  خیلی معمولی ،سرعت پایینی داره .کست هم نمیشه تا...  21 دی 1401   3.0      0   \n",
       "5  پخش فیلم و سرچ کردن و دانلود کردن و همه چی دار...  19 دی 1401   4.0      0   \n",
       "6  نسبت به قیمت وسخت افزار ونرم افزار، دستگاه منا...  18 دی 1401   4.0      0   \n",
       "\n",
       "   dislikes recommendation_status  is_buyer        user_name  is_anonymous  \n",
       "4         0               no_idea      True  کاربر دیجی‌کالا          True  \n",
       "5         0           recommended      True      پارسا احمدی         False  \n",
       "6         0                   NaN      True  کاربر دیجی‌کالا          True  "
      ]
     },
     "execution_count": 9,
     "metadata": {},
     "output_type": "execute_result"
    }
   ],
   "source": [
    "dataSets[4:7]"
   ]
  },
  {
   "cell_type": "code",
   "execution_count": 12,
   "metadata": {},
   "outputs": [
    {
     "name": "stdout",
     "output_type": "stream",
     "text": [
      "<class 'pandas.core.frame.DataFrame'>\n",
      "RangeIndex: 240 entries, 0 to 239\n",
      "Data columns (total 12 columns):\n",
      " #   Column                 Non-Null Count  Dtype  \n",
      "---  ------                 --------------  -----  \n",
      " 0   productID              240 non-null    int64  \n",
      " 1   id                     240 non-null    int64  \n",
      " 2   title                  175 non-null    object \n",
      " 3   body                   240 non-null    object \n",
      " 4   created_at             240 non-null    object \n",
      " 5   rate                   240 non-null    float64\n",
      " 6   likes                  240 non-null    int64  \n",
      " 7   dislikes               240 non-null    int64  \n",
      " 8   recommendation_status  190 non-null    object \n",
      " 9   is_buyer               240 non-null    bool   \n",
      " 10  user_name              240 non-null    object \n",
      " 11  is_anonymous           240 non-null    bool   \n",
      "dtypes: bool(2), float64(1), int64(4), object(5)\n",
      "memory usage: 19.3+ KB\n"
     ]
    }
   ],
   "source": [
    "#Data for recommendation_status and .... not available\n",
    "dataSets.info()"
   ]
  },
  {
   "cell_type": "code",
   "execution_count": 14,
   "metadata": {},
   "outputs": [
    {
     "data": {
      "text/plain": [
       "0      خیلی عالیه پیشنهاد میکنم بخرید هم پرسرعته وهم ...\n",
       "1      خوب بود مشکلی تو این دو ماه که استفاده کردم ند...\n",
       "2      به نسبت قیمتی ک پرداخت میکنید خیلی خوبه ب شرطی...\n",
       "3      من این دستگاه رو در تخفیف خریدم ولی حتی بدون ت...\n",
       "4      خیلی معمولی ،سرعت پایینی داره .کست هم نمیشه تا...\n",
       "                             ...                        \n",
       "235    اشکال در اتصال بلوتوث داره، اصلا توی جستجو با ...\n",
       "236    باکس خوبی است. سرعتش خوبه. اتصال با کابل شبکه ...\n",
       "237    از هر نظر عالیه هم کیفیت تصویرش خوبه هم امکانا...\n",
       "238    با توجه به این هزینه مناسب ، به راحتی تلویزیون...\n",
       "239    دستگاه واقعا خوبیه بدون لگ فیلما رو پخش میکنه ...\n",
       "Name: body, Length: 240, dtype: object"
      ]
     },
     "execution_count": 14,
     "metadata": {},
     "output_type": "execute_result"
    }
   ],
   "source": [
    "dataSets[\"body\"]"
   ]
  },
  {
   "cell_type": "code",
   "execution_count": 16,
   "metadata": {},
   "outputs": [
    {
     "data": {
      "text/plain": [
       "array([nan, 'recommended', 'no_idea', 'not_recommended'], dtype=object)"
      ]
     },
     "execution_count": 16,
     "metadata": {},
     "output_type": "execute_result"
    }
   ],
   "source": [
    "dataSets[\"recommendation_status\"].unique()"
   ]
  },
  {
   "cell_type": "code",
   "execution_count": 17,
   "metadata": {},
   "outputs": [
    {
     "data": {
      "text/plain": [
       "recommended        136\n",
       "not_recommended     29\n",
       "no_idea             25\n",
       "Name: recommendation_status, dtype: int64"
      ]
     },
     "execution_count": 17,
     "metadata": {},
     "output_type": "execute_result"
    }
   ],
   "source": [
    "dataSets[\"recommendation_status\"].value_counts()"
   ]
  },
  {
   "cell_type": "code",
   "execution_count": 22,
   "metadata": {},
   "outputs": [
    {
     "data": {
      "text/html": [
       "<div>\n",
       "<style scoped>\n",
       "    .dataframe tbody tr th:only-of-type {\n",
       "        vertical-align: middle;\n",
       "    }\n",
       "\n",
       "    .dataframe tbody tr th {\n",
       "        vertical-align: top;\n",
       "    }\n",
       "\n",
       "    .dataframe thead th {\n",
       "        text-align: right;\n",
       "    }\n",
       "</style>\n",
       "<table border=\"1\" class=\"dataframe\">\n",
       "  <thead>\n",
       "    <tr style=\"text-align: right;\">\n",
       "      <th></th>\n",
       "      <th>productID</th>\n",
       "      <th>id</th>\n",
       "      <th>title</th>\n",
       "      <th>body</th>\n",
       "      <th>created_at</th>\n",
       "      <th>rate</th>\n",
       "      <th>likes</th>\n",
       "      <th>dislikes</th>\n",
       "      <th>recommendation_status</th>\n",
       "      <th>is_buyer</th>\n",
       "      <th>user_name</th>\n",
       "      <th>is_anonymous</th>\n",
       "    </tr>\n",
       "  </thead>\n",
       "  <tbody>\n",
       "    <tr>\n",
       "      <th>1</th>\n",
       "      <td>3493882</td>\n",
       "      <td>44397557</td>\n",
       "      <td>اندروید باکس</td>\n",
       "      <td>خوب بود مشکلی تو این دو ماه که استفاده کردم ند...</td>\n",
       "      <td>26 دی 1401</td>\n",
       "      <td>4.0</td>\n",
       "      <td>0</td>\n",
       "      <td>0</td>\n",
       "      <td>recommended</td>\n",
       "      <td>True</td>\n",
       "      <td>کاربر دیجی‌کالا</td>\n",
       "      <td>True</td>\n",
       "    </tr>\n",
       "    <tr>\n",
       "      <th>3</th>\n",
       "      <td>3493882</td>\n",
       "      <td>44211982</td>\n",
       "      <td>پاناتک</td>\n",
       "      <td>من این دستگاه رو در تخفیف خریدم ولی حتی بدون ت...</td>\n",
       "      <td>22 دی 1401</td>\n",
       "      <td>5.0</td>\n",
       "      <td>0</td>\n",
       "      <td>0</td>\n",
       "      <td>recommended</td>\n",
       "      <td>True</td>\n",
       "      <td>مهدی کریمیان</td>\n",
       "      <td>False</td>\n",
       "    </tr>\n",
       "    <tr>\n",
       "      <th>5</th>\n",
       "      <td>3493882</td>\n",
       "      <td>44087864</td>\n",
       "      <td>در حد مطلوب</td>\n",
       "      <td>پخش فیلم و سرچ کردن و دانلود کردن و همه چی دار...</td>\n",
       "      <td>19 دی 1401</td>\n",
       "      <td>4.0</td>\n",
       "      <td>0</td>\n",
       "      <td>0</td>\n",
       "      <td>recommended</td>\n",
       "      <td>True</td>\n",
       "      <td>پارسا احمدی</td>\n",
       "      <td>False</td>\n",
       "    </tr>\n",
       "    <tr>\n",
       "      <th>10</th>\n",
       "      <td>3493882</td>\n",
       "      <td>43795098</td>\n",
       "      <td>NaN</td>\n",
       "      <td>کنترلش کار نمیکنه،موس اش کار نمیکنه به گوشی مت...</td>\n",
       "      <td>21 دی 1401</td>\n",
       "      <td>2.0</td>\n",
       "      <td>0</td>\n",
       "      <td>0</td>\n",
       "      <td>recommended</td>\n",
       "      <td>True</td>\n",
       "      <td>مهدی کوشکی</td>\n",
       "      <td>False</td>\n",
       "    </tr>\n",
       "    <tr>\n",
       "      <th>12</th>\n",
       "      <td>3493882</td>\n",
       "      <td>43565835</td>\n",
       "      <td>NaN</td>\n",
       "      <td>فعلا خوبه و راضی هستم</td>\n",
       "      <td>6 دی 1401</td>\n",
       "      <td>4.0</td>\n",
       "      <td>0</td>\n",
       "      <td>0</td>\n",
       "      <td>recommended</td>\n",
       "      <td>True</td>\n",
       "      <td>کاربر دیجی‌کالا</td>\n",
       "      <td>True</td>\n",
       "    </tr>\n",
       "  </tbody>\n",
       "</table>\n",
       "</div>"
      ],
      "text/plain": [
       "    productID        id         title  \\\n",
       "1     3493882  44397557  اندروید باکس   \n",
       "3     3493882  44211982        پاناتک   \n",
       "5     3493882  44087864   در حد مطلوب   \n",
       "10    3493882  43795098           NaN   \n",
       "12    3493882  43565835           NaN   \n",
       "\n",
       "                                                 body  created_at  rate  \\\n",
       "1   خوب بود مشکلی تو این دو ماه که استفاده کردم ند...  26 دی 1401   4.0   \n",
       "3   من این دستگاه رو در تخفیف خریدم ولی حتی بدون ت...  22 دی 1401   5.0   \n",
       "5   پخش فیلم و سرچ کردن و دانلود کردن و همه چی دار...  19 دی 1401   4.0   \n",
       "10  کنترلش کار نمیکنه،موس اش کار نمیکنه به گوشی مت...  21 دی 1401   2.0   \n",
       "12                             فعلا خوبه و راضی هستم    6 دی 1401   4.0   \n",
       "\n",
       "    likes  dislikes recommendation_status  is_buyer        user_name  \\\n",
       "1       0         0           recommended      True  کاربر دیجی‌کالا   \n",
       "3       0         0           recommended      True     مهدی کریمیان   \n",
       "5       0         0           recommended      True      پارسا احمدی   \n",
       "10      0         0           recommended      True       مهدی کوشکی   \n",
       "12      0         0           recommended      True  کاربر دیجی‌کالا   \n",
       "\n",
       "    is_anonymous  \n",
       "1           True  \n",
       "3          False  \n",
       "5          False  \n",
       "10         False  \n",
       "12          True  "
      ]
     },
     "execution_count": 22,
     "metadata": {},
     "output_type": "execute_result"
    }
   ],
   "source": [
    "#Comments with recommmended\n",
    "#Count = 136\n",
    "dataSets[dataSets[\"recommendation_status\"] == \"recommended\"].head()"
   ]
  },
  {
   "cell_type": "code",
   "execution_count": 23,
   "metadata": {},
   "outputs": [
    {
     "data": {
      "text/html": [
       "<div>\n",
       "<style scoped>\n",
       "    .dataframe tbody tr th:only-of-type {\n",
       "        vertical-align: middle;\n",
       "    }\n",
       "\n",
       "    .dataframe tbody tr th {\n",
       "        vertical-align: top;\n",
       "    }\n",
       "\n",
       "    .dataframe thead th {\n",
       "        text-align: right;\n",
       "    }\n",
       "</style>\n",
       "<table border=\"1\" class=\"dataframe\">\n",
       "  <thead>\n",
       "    <tr style=\"text-align: right;\">\n",
       "      <th></th>\n",
       "      <th>productID</th>\n",
       "      <th>id</th>\n",
       "      <th>title</th>\n",
       "      <th>body</th>\n",
       "      <th>created_at</th>\n",
       "      <th>rate</th>\n",
       "      <th>likes</th>\n",
       "      <th>dislikes</th>\n",
       "      <th>recommendation_status</th>\n",
       "      <th>is_buyer</th>\n",
       "      <th>user_name</th>\n",
       "      <th>is_anonymous</th>\n",
       "    </tr>\n",
       "  </thead>\n",
       "  <tbody>\n",
       "    <tr>\n",
       "      <th>49</th>\n",
       "      <td>3493882</td>\n",
       "      <td>42463864</td>\n",
       "      <td>NaN</td>\n",
       "      <td>اولا گارانتی اش تمام شده بود. کیفیتش هم خوب نب...</td>\n",
       "      <td>13 آذر 1401</td>\n",
       "      <td>1.0</td>\n",
       "      <td>9</td>\n",
       "      <td>1</td>\n",
       "      <td>not_recommended</td>\n",
       "      <td>True</td>\n",
       "      <td>محمدرضا  خداداد</td>\n",
       "      <td>False</td>\n",
       "    </tr>\n",
       "    <tr>\n",
       "      <th>56</th>\n",
       "      <td>3493882</td>\n",
       "      <td>41855916</td>\n",
       "      <td>مدل r69 بخرید به جای این این اکثر برنامه ها رو...</td>\n",
       "      <td>برنامه های فیلم دیدن روش نصب نمیشه مزخرفه</td>\n",
       "      <td>1 آذر 1401</td>\n",
       "      <td>1.0</td>\n",
       "      <td>1</td>\n",
       "      <td>2</td>\n",
       "      <td>not_recommended</td>\n",
       "      <td>True</td>\n",
       "      <td>فرید صادقی مهر</td>\n",
       "      <td>False</td>\n",
       "    </tr>\n",
       "    <tr>\n",
       "      <th>63</th>\n",
       "      <td>3493882</td>\n",
       "      <td>41356666</td>\n",
       "      <td>ایراد فنی داشت مرجوع کردم</td>\n",
       "      <td>ایراد فنی داشت مرجوع کردم</td>\n",
       "      <td>12 آبان 1401</td>\n",
       "      <td>1.0</td>\n",
       "      <td>1</td>\n",
       "      <td>1</td>\n",
       "      <td>not_recommended</td>\n",
       "      <td>True</td>\n",
       "      <td>مهدی  نعمت الهی</td>\n",
       "      <td>False</td>\n",
       "    </tr>\n",
       "    <tr>\n",
       "      <th>86</th>\n",
       "      <td>3493882</td>\n",
       "      <td>39255511</td>\n",
       "      <td>اندرویدباکس</td>\n",
       "      <td>کالا دست دوم بود</td>\n",
       "      <td>24 شهریور 1401</td>\n",
       "      <td>1.0</td>\n",
       "      <td>1</td>\n",
       "      <td>0</td>\n",
       "      <td>not_recommended</td>\n",
       "      <td>True</td>\n",
       "      <td>شهریار شفیعی پیرالقر</td>\n",
       "      <td>False</td>\n",
       "    </tr>\n",
       "    <tr>\n",
       "      <th>98</th>\n",
       "      <td>3493882</td>\n",
       "      <td>37407366</td>\n",
       "      <td>داغ کردن سریع  و کار نکردن اپهای ایرانیدمانند ...</td>\n",
       "      <td>هنگ کردن مدام\\r\\nداغ کردن زیاد\\r\\nجنس نامرغوب ...</td>\n",
       "      <td>7 مرداد 1401</td>\n",
       "      <td>1.0</td>\n",
       "      <td>0</td>\n",
       "      <td>0</td>\n",
       "      <td>not_recommended</td>\n",
       "      <td>True</td>\n",
       "      <td>داود موحدخواه</td>\n",
       "      <td>False</td>\n",
       "    </tr>\n",
       "  </tbody>\n",
       "</table>\n",
       "</div>"
      ],
      "text/plain": [
       "    productID        id                                              title  \\\n",
       "49    3493882  42463864                                                NaN   \n",
       "56    3493882  41855916  مدل r69 بخرید به جای این این اکثر برنامه ها رو...   \n",
       "63    3493882  41356666                          ایراد فنی داشت مرجوع کردم   \n",
       "86    3493882  39255511                                        اندرویدباکس   \n",
       "98    3493882  37407366  داغ کردن سریع  و کار نکردن اپهای ایرانیدمانند ...   \n",
       "\n",
       "                                                 body      created_at  rate  \\\n",
       "49  اولا گارانتی اش تمام شده بود. کیفیتش هم خوب نب...     13 آذر 1401   1.0   \n",
       "56          برنامه های فیلم دیدن روش نصب نمیشه مزخرفه      1 آذر 1401   1.0   \n",
       "63                          ایراد فنی داشت مرجوع کردم    12 آبان 1401   1.0   \n",
       "86                                   کالا دست دوم بود  24 شهریور 1401   1.0   \n",
       "98  هنگ کردن مدام\\r\\nداغ کردن زیاد\\r\\nجنس نامرغوب ...    7 مرداد 1401   1.0   \n",
       "\n",
       "    likes  dislikes recommendation_status  is_buyer             user_name  \\\n",
       "49      9         1       not_recommended      True       محمدرضا  خداداد   \n",
       "56      1         2       not_recommended      True        فرید صادقی مهر   \n",
       "63      1         1       not_recommended      True       مهدی  نعمت الهی   \n",
       "86      1         0       not_recommended      True  شهریار شفیعی پیرالقر   \n",
       "98      0         0       not_recommended      True         داود موحدخواه   \n",
       "\n",
       "    is_anonymous  \n",
       "49         False  \n",
       "56         False  \n",
       "63         False  \n",
       "86         False  \n",
       "98         False  "
      ]
     },
     "execution_count": 23,
     "metadata": {},
     "output_type": "execute_result"
    }
   ],
   "source": [
    "#Comments with not_recommended \n",
    "#Count = 29\n",
    "dataSets[dataSets[\"recommendation_status\"] == \"not_recommended\"].head()"
   ]
  },
  {
   "cell_type": "code",
   "execution_count": 24,
   "metadata": {},
   "outputs": [
    {
     "data": {
      "text/html": [
       "<div>\n",
       "<style scoped>\n",
       "    .dataframe tbody tr th:only-of-type {\n",
       "        vertical-align: middle;\n",
       "    }\n",
       "\n",
       "    .dataframe tbody tr th {\n",
       "        vertical-align: top;\n",
       "    }\n",
       "\n",
       "    .dataframe thead th {\n",
       "        text-align: right;\n",
       "    }\n",
       "</style>\n",
       "<table border=\"1\" class=\"dataframe\">\n",
       "  <thead>\n",
       "    <tr style=\"text-align: right;\">\n",
       "      <th></th>\n",
       "      <th>productID</th>\n",
       "      <th>id</th>\n",
       "      <th>title</th>\n",
       "      <th>body</th>\n",
       "      <th>created_at</th>\n",
       "      <th>rate</th>\n",
       "      <th>likes</th>\n",
       "      <th>dislikes</th>\n",
       "      <th>recommendation_status</th>\n",
       "      <th>is_buyer</th>\n",
       "      <th>user_name</th>\n",
       "      <th>is_anonymous</th>\n",
       "    </tr>\n",
       "  </thead>\n",
       "  <tbody>\n",
       "    <tr>\n",
       "      <th>4</th>\n",
       "      <td>3493882</td>\n",
       "      <td>44174285</td>\n",
       "      <td>NaN</td>\n",
       "      <td>خیلی معمولی ،سرعت پایینی داره .کست هم نمیشه تا...</td>\n",
       "      <td>21 دی 1401</td>\n",
       "      <td>3.0</td>\n",
       "      <td>0</td>\n",
       "      <td>0</td>\n",
       "      <td>no_idea</td>\n",
       "      <td>True</td>\n",
       "      <td>کاربر دیجی‌کالا</td>\n",
       "      <td>True</td>\n",
       "    </tr>\n",
       "    <tr>\n",
       "      <th>9</th>\n",
       "      <td>3493882</td>\n",
       "      <td>43819044</td>\n",
       "      <td>NaN</td>\n",
       "      <td>خوشکل بود اما برای من سیم اچ دی ام آی مشکل داش...</td>\n",
       "      <td>12 دی 1401</td>\n",
       "      <td>3.0</td>\n",
       "      <td>1</td>\n",
       "      <td>0</td>\n",
       "      <td>no_idea</td>\n",
       "      <td>True</td>\n",
       "      <td>کاربر دیجی‌کالا</td>\n",
       "      <td>True</td>\n",
       "    </tr>\n",
       "    <tr>\n",
       "      <th>11</th>\n",
       "      <td>3493882</td>\n",
       "      <td>43633245</td>\n",
       "      <td>اگر مودم دور باشه بدرد نمیخوره</td>\n",
       "      <td>اگر فقط میخواین باهاش فیلم ببیند کارتون رو راه...</td>\n",
       "      <td>8 دی 1401</td>\n",
       "      <td>3.0</td>\n",
       "      <td>0</td>\n",
       "      <td>0</td>\n",
       "      <td>no_idea</td>\n",
       "      <td>True</td>\n",
       "      <td>حمید آجرلو</td>\n",
       "      <td>False</td>\n",
       "    </tr>\n",
       "    <tr>\n",
       "      <th>24</th>\n",
       "      <td>3493882</td>\n",
       "      <td>44174285</td>\n",
       "      <td>NaN</td>\n",
       "      <td>خیلی معمولی ،سرعت پایینی داره .کست هم نمیشه تا...</td>\n",
       "      <td>21 دی 1401</td>\n",
       "      <td>3.0</td>\n",
       "      <td>0</td>\n",
       "      <td>0</td>\n",
       "      <td>no_idea</td>\n",
       "      <td>True</td>\n",
       "      <td>کاربر دیجی‌کالا</td>\n",
       "      <td>True</td>\n",
       "    </tr>\n",
       "    <tr>\n",
       "      <th>29</th>\n",
       "      <td>3493882</td>\n",
       "      <td>43819044</td>\n",
       "      <td>NaN</td>\n",
       "      <td>خوشکل بود اما برای من سیم اچ دی ام آی مشکل داش...</td>\n",
       "      <td>12 دی 1401</td>\n",
       "      <td>3.0</td>\n",
       "      <td>1</td>\n",
       "      <td>0</td>\n",
       "      <td>no_idea</td>\n",
       "      <td>True</td>\n",
       "      <td>کاربر دیجی‌کالا</td>\n",
       "      <td>True</td>\n",
       "    </tr>\n",
       "  </tbody>\n",
       "</table>\n",
       "</div>"
      ],
      "text/plain": [
       "    productID        id                           title  \\\n",
       "4     3493882  44174285                             NaN   \n",
       "9     3493882  43819044                             NaN   \n",
       "11    3493882  43633245  اگر مودم دور باشه بدرد نمیخوره   \n",
       "24    3493882  44174285                             NaN   \n",
       "29    3493882  43819044                             NaN   \n",
       "\n",
       "                                                 body  created_at  rate  \\\n",
       "4   خیلی معمولی ،سرعت پایینی داره .کست هم نمیشه تا...  21 دی 1401   3.0   \n",
       "9   خوشکل بود اما برای من سیم اچ دی ام آی مشکل داش...  12 دی 1401   3.0   \n",
       "11  اگر فقط میخواین باهاش فیلم ببیند کارتون رو راه...   8 دی 1401   3.0   \n",
       "24  خیلی معمولی ،سرعت پایینی داره .کست هم نمیشه تا...  21 دی 1401   3.0   \n",
       "29  خوشکل بود اما برای من سیم اچ دی ام آی مشکل داش...  12 دی 1401   3.0   \n",
       "\n",
       "    likes  dislikes recommendation_status  is_buyer        user_name  \\\n",
       "4       0         0               no_idea      True  کاربر دیجی‌کالا   \n",
       "9       1         0               no_idea      True  کاربر دیجی‌کالا   \n",
       "11      0         0               no_idea      True       حمید آجرلو   \n",
       "24      0         0               no_idea      True  کاربر دیجی‌کالا   \n",
       "29      1         0               no_idea      True  کاربر دیجی‌کالا   \n",
       "\n",
       "    is_anonymous  \n",
       "4           True  \n",
       "9           True  \n",
       "11         False  \n",
       "24          True  \n",
       "29          True  "
      ]
     },
     "execution_count": 24,
     "metadata": {},
     "output_type": "execute_result"
    }
   ],
   "source": [
    "#Comments with no_idea \n",
    "#Count = 25\n",
    "dataSets[dataSets[\"recommendation_status\"] == \"no_idea\"].head()"
   ]
  },
  {
   "cell_type": "code",
   "execution_count": 32,
   "metadata": {},
   "outputs": [
    {
     "data": {
      "text/plain": [
       "4      خیلی معمولی ،سرعت پایینی داره .کست هم نمیشه تا...\n",
       "9      خوشکل بود اما برای من سیم اچ دی ام آی مشکل داش...\n",
       "11     اگر فقط میخواین باهاش فیلم ببیند کارتون رو راه...\n",
       "24     خیلی معمولی ،سرعت پایینی داره .کست هم نمیشه تا...\n",
       "29     خوشکل بود اما برای من سیم اچ دی ام آی مشکل داش...\n",
       "31     اگر فقط میخواین باهاش فیلم ببیند کارتون رو راه...\n",
       "55     سلام\\r\\nاین دستگاه به نسبت پولی که میدی خوبه. ...\n",
       "58                                راضی نبودم مرجوع کردم \n",
       "76     کنترل خوبی نداره،هم کوچیکه هم مشخصه الکیه..کنت...\n",
       "79                      از ماوس ش خوشم نیومد .مرجوع کردم\n",
       "83     نسبت به قیمتش ارزش خريد داره\\nولی اگه واقعا به...\n",
       "102                            لگ دارد \\nقیمت مناسب است \n",
       "126                     قطعات از لحاظ سالم بودن برسی شود\n",
       "130                           نسبت به پولش زیاد خوب نیست\n",
       "133                       فعلا که خوب بوده و اذیت نکرده!\n",
       "139    والا من اینو بر اساس رضایت برادرم ازین برند خر...\n",
       "182                نسبت به هزینه ای که میکنید ارزش نداره\n",
       "184    خوبه بدنیست ولی خداییش به نسبت قیمتش، امکانات ...\n",
       "188    سلام مدت کوتاهی است از این دستگاه استفاده می ک...\n",
       "190           امکانات خوبی داره،خوب دانلود میکنه،بدنیست!\n",
       "203    نسبت به مشخصاتش قیمتش مناسب بود ، ولی هرکاری ک...\n",
       "206    دستگاه رو برای مادرم خریده بودم . قبل از اینکه...\n",
       "210    من واسه بازی گرفته بودمش ولی متاسفانه هیچ بازی...\n",
       "222    تا الان نشده حتی یک دونه از کامنتهای انتقادی م...\n",
       "235    اشکال در اتصال بلوتوث داره، اصلا توی جستجو با ...\n",
       "Name: body, dtype: object"
      ]
     },
     "execution_count": 32,
     "metadata": {},
     "output_type": "execute_result"
    }
   ],
   "source": [
    "dataSets[\"body\"][dataSets[\"recommendation_status\"] == \"no_idea\"]"
   ]
  },
  {
   "cell_type": "code",
   "execution_count": 60,
   "metadata": {},
   "outputs": [
    {
     "data": {
      "text/plain": [
       "Series([], Name: body, dtype: object)"
      ]
     },
     "execution_count": 60,
     "metadata": {},
     "output_type": "execute_result"
    }
   ],
   "source": [
    "dataSets[\"body\"][pd.isnull(dataSets[\"recommendation_status\"])]\n"
   ]
  },
  {
   "cell_type": "code",
   "execution_count": 38,
   "metadata": {},
   "outputs": [
    {
     "data": {
      "text/plain": [
       "50"
      ]
     },
     "execution_count": 38,
     "metadata": {},
     "output_type": "execute_result"
    }
   ],
   "source": [
    "dataSets[\"body\"][pd.isnull(dataSets[\"recommendation_status\"])].count()"
   ]
  },
  {
   "cell_type": "code",
   "execution_count": 39,
   "metadata": {},
   "outputs": [
    {
     "data": {
      "text/plain": [
       "Series([], Name: body, dtype: object)"
      ]
     },
     "execution_count": 39,
     "metadata": {},
     "output_type": "execute_result"
    }
   ],
   "source": [
    "#We don't have answer\n",
    "dataSets[\"body\"][dataSets[\"recommendation_status\"] == \"nan\"]"
   ]
  },
  {
   "cell_type": "code",
   "execution_count": 40,
   "metadata": {},
   "outputs": [
    {
     "name": "stderr",
     "output_type": "stream",
     "text": [
      "C:\\Users\\admin\\AppData\\Local\\Temp\\ipykernel_22792\\871248061.py:1: SettingWithCopyWarning: \n",
      "A value is trying to be set on a copy of a slice from a DataFrame\n",
      "\n",
      "See the caveats in the documentation: https://pandas.pydata.org/pandas-docs/stable/user_guide/indexing.html#returning-a-view-versus-a-copy\n",
      "  dataSets[\"recommendation_status\"][pd.isnull(dataSets[\"recommendation_status\"])]=\"no_idea\"\n"
     ]
    }
   ],
   "source": [
    "#Solution1\n",
    "#Add 2acts in one row\n",
    "#Add value into recommedation_status column when recommendation_status is nan\n",
    "dataSets[\"recommendation_status\"][pd.isnull(dataSets[\"recommendation_status\"])]=\"no_idea\""
   ]
  },
  {
   "cell_type": "code",
   "execution_count": 57,
   "metadata": {},
   "outputs": [
    {
     "data": {
      "text/plain": [
       "Series([], Name: body, dtype: int64)"
      ]
     },
     "execution_count": 57,
     "metadata": {},
     "output_type": "execute_result"
    }
   ],
   "source": [
    "dataSets[\"body\"][pd.isnull(dataSets[\"recommendation_status\"])].value_counts()\n"
   ]
  },
  {
   "cell_type": "code",
   "execution_count": 58,
   "metadata": {},
   "outputs": [
    {
     "data": {
      "text/plain": [
       "0"
      ]
     },
     "execution_count": 58,
     "metadata": {},
     "output_type": "execute_result"
    }
   ],
   "source": [
    "dataSets[\"body\"][pd.isnull(dataSets[\"recommendation_status\"])].count()"
   ]
  },
  {
   "cell_type": "code",
   "execution_count": 45,
   "metadata": {},
   "outputs": [
    {
     "data": {
      "text/html": [
       "<div>\n",
       "<style scoped>\n",
       "    .dataframe tbody tr th:only-of-type {\n",
       "        vertical-align: middle;\n",
       "    }\n",
       "\n",
       "    .dataframe tbody tr th {\n",
       "        vertical-align: top;\n",
       "    }\n",
       "\n",
       "    .dataframe thead th {\n",
       "        text-align: right;\n",
       "    }\n",
       "</style>\n",
       "<table border=\"1\" class=\"dataframe\">\n",
       "  <thead>\n",
       "    <tr style=\"text-align: right;\">\n",
       "      <th></th>\n",
       "      <th>productID</th>\n",
       "      <th>id</th>\n",
       "      <th>title</th>\n",
       "      <th>body</th>\n",
       "      <th>created_at</th>\n",
       "      <th>rate</th>\n",
       "      <th>likes</th>\n",
       "      <th>dislikes</th>\n",
       "      <th>recommendation_status</th>\n",
       "      <th>is_buyer</th>\n",
       "      <th>user_name</th>\n",
       "      <th>is_anonymous</th>\n",
       "    </tr>\n",
       "  </thead>\n",
       "  <tbody>\n",
       "    <tr>\n",
       "      <th>0</th>\n",
       "      <td>3493882</td>\n",
       "      <td>45009584</td>\n",
       "      <td>خیلی عالیه پیشنهاد میکنم بخرید هم پرسرعته وهم ...</td>\n",
       "      <td>خیلی عالیه پیشنهاد میکنم بخرید هم پرسرعته وهم ...</td>\n",
       "      <td>8 بهمن 1401</td>\n",
       "      <td>5.0</td>\n",
       "      <td>0</td>\n",
       "      <td>0</td>\n",
       "      <td>no_idea</td>\n",
       "      <td>True</td>\n",
       "      <td>هادی هادیان</td>\n",
       "      <td>False</td>\n",
       "    </tr>\n",
       "    <tr>\n",
       "      <th>2</th>\n",
       "      <td>3493882</td>\n",
       "      <td>44271805</td>\n",
       "      <td>ب نسبت قیمت عالیه</td>\n",
       "      <td>به نسبت قیمتی ک پرداخت میکنید خیلی خوبه ب شرطی...</td>\n",
       "      <td>23 دی 1401</td>\n",
       "      <td>4.0</td>\n",
       "      <td>0</td>\n",
       "      <td>0</td>\n",
       "      <td>no_idea</td>\n",
       "      <td>True</td>\n",
       "      <td>امیر خسروشاهی ملکی</td>\n",
       "      <td>False</td>\n",
       "    </tr>\n",
       "    <tr>\n",
       "      <th>4</th>\n",
       "      <td>3493882</td>\n",
       "      <td>44174285</td>\n",
       "      <td>NaN</td>\n",
       "      <td>خیلی معمولی ،سرعت پایینی داره .کست هم نمیشه تا...</td>\n",
       "      <td>21 دی 1401</td>\n",
       "      <td>3.0</td>\n",
       "      <td>0</td>\n",
       "      <td>0</td>\n",
       "      <td>no_idea</td>\n",
       "      <td>True</td>\n",
       "      <td>کاربر دیجی‌کالا</td>\n",
       "      <td>True</td>\n",
       "    </tr>\n",
       "    <tr>\n",
       "      <th>6</th>\n",
       "      <td>3493882</td>\n",
       "      <td>44060535</td>\n",
       "      <td>NaN</td>\n",
       "      <td>نسبت به قیمت وسخت افزار ونرم افزار، دستگاه منا...</td>\n",
       "      <td>18 دی 1401</td>\n",
       "      <td>4.0</td>\n",
       "      <td>0</td>\n",
       "      <td>0</td>\n",
       "      <td>no_idea</td>\n",
       "      <td>True</td>\n",
       "      <td>کاربر دیجی‌کالا</td>\n",
       "      <td>True</td>\n",
       "    </tr>\n",
       "    <tr>\n",
       "      <th>7</th>\n",
       "      <td>3493882</td>\n",
       "      <td>43961923</td>\n",
       "      <td>NaN</td>\n",
       "      <td>بد نیست</td>\n",
       "      <td>16 دی 1401</td>\n",
       "      <td>3.0</td>\n",
       "      <td>0</td>\n",
       "      <td>0</td>\n",
       "      <td>no_idea</td>\n",
       "      <td>True</td>\n",
       "      <td>حسام شریفی</td>\n",
       "      <td>False</td>\n",
       "    </tr>\n",
       "  </tbody>\n",
       "</table>\n",
       "</div>"
      ],
      "text/plain": [
       "   productID        id                                              title  \\\n",
       "0    3493882  45009584  خیلی عالیه پیشنهاد میکنم بخرید هم پرسرعته وهم ...   \n",
       "2    3493882  44271805                                  ب نسبت قیمت عالیه   \n",
       "4    3493882  44174285                                                NaN   \n",
       "6    3493882  44060535                                                NaN   \n",
       "7    3493882  43961923                                                NaN   \n",
       "\n",
       "                                                body   created_at  rate  \\\n",
       "0  خیلی عالیه پیشنهاد میکنم بخرید هم پرسرعته وهم ...  8 بهمن 1401   5.0   \n",
       "2  به نسبت قیمتی ک پرداخت میکنید خیلی خوبه ب شرطی...   23 دی 1401   4.0   \n",
       "4  خیلی معمولی ،سرعت پایینی داره .کست هم نمیشه تا...   21 دی 1401   3.0   \n",
       "6  نسبت به قیمت وسخت افزار ونرم افزار، دستگاه منا...   18 دی 1401   4.0   \n",
       "7                                            بد نیست   16 دی 1401   3.0   \n",
       "\n",
       "   likes  dislikes recommendation_status  is_buyer           user_name  \\\n",
       "0      0         0               no_idea      True         هادی هادیان   \n",
       "2      0         0               no_idea      True  امیر خسروشاهی ملکی   \n",
       "4      0         0               no_idea      True     کاربر دیجی‌کالا   \n",
       "6      0         0               no_idea      True     کاربر دیجی‌کالا   \n",
       "7      0         0               no_idea      True          حسام شریفی   \n",
       "\n",
       "   is_anonymous  \n",
       "0         False  \n",
       "2         False  \n",
       "4          True  \n",
       "6          True  \n",
       "7         False  "
      ]
     },
     "execution_count": 45,
     "metadata": {},
     "output_type": "execute_result"
    }
   ],
   "source": [
    "#Comments with no_idea \n",
    "#Count = 25 + 50--->75\n",
    "dataSets[dataSets[\"recommendation_status\"] == \"no_idea\"].head()"
   ]
  },
  {
   "cell_type": "code",
   "execution_count": 46,
   "metadata": {},
   "outputs": [],
   "source": [
    "#Solution2\n",
    "#Add value into recommedation_status column when recommendation_status is nan\n",
    "dataSets.loc[pd.isnull(dataSets[\"recommendation_status\"])]=\"no_idea\""
   ]
  },
  {
   "cell_type": "code",
   "execution_count": 48,
   "metadata": {},
   "outputs": [],
   "source": [
    "import matplotlib.pyplot as plt"
   ]
  },
  {
   "cell_type": "code",
   "execution_count": 56,
   "metadata": {},
   "outputs": [
    {
     "data": {
      "image/png": "[encoded data removed]",
      "text/plain": [
       "<Figure size 200x200 with 1 Axes>"
      ]
     },
     "metadata": {},
     "output_type": "display_data"
    }
   ],
   "source": [
    "dataSets[\"recommendation_status\"].value_counts().plot(kind=\"bar\", figsize=(2,2))\n",
    "plt.xlabel(\"Recommedation Status\")\n",
    "plt.ylabel(\"Count\")\n",
    "plt.show()"
   ]
  },
  {
   "cell_type": "code",
   "execution_count": null,
   "metadata": {},
   "outputs": [],
   "source": []
  }
 ],
 "metadata": {
  "kernelspec": {
   "display_name": "Python 3.10.4 64-bit",
   "language": "python",
   "name": "python3"
  },
  "language_info": {
   "codemirror_mode": {
    "name": "ipython",
    "version": 3
   },
   "file_extension": ".py",
   "mimetype": "text/x-python",
   "name": "python",
   "nbconvert_exporter": "python",
   "pygments_lexer": "ipython3",
   "version": "3.10.4"
  },
  "orig_nbformat": 4,
  "vscode": {
   "interpreter": {
    "hash": "26de051ba29f2982a8de78e945f0abaf191376122a1563185a90213a26c5da77"
   }
  }
 },
 "nbformat": 4,
 "nbformat_minor": 2
}
